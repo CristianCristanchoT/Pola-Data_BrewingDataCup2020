{
 "cells": [
  {
   "cell_type": "code",
   "execution_count": 51,
   "metadata": {},
   "outputs": [],
   "source": [
    "import os\n",
    "import pandas as pd\n",
    "import numpy as np\n",
    "import matplotlib.pyplot as plt\n",
    "import seaborn as sns\n",
    "from tqdm import tqdm\n",
    "from scipy import stats"
   ]
  },
  {
   "cell_type": "code",
   "execution_count": 2,
   "metadata": {},
   "outputs": [],
   "source": [
    "clientes_estructura = pd.read_csv(\"DATA/Input1_clientes_estructura.csv\", sep=\";\")\n",
    "clientes_venta = pd.read_csv(\"DATA/Input2_clientes_venta.csv\", sep=\";\")"
   ]
  },
  {
   "cell_type": "markdown",
   "metadata": {},
   "source": [
    "<h1>\n",
    "Clientes estructura\n",
    "</h1>"
   ]
  },
  {
   "cell_type": "code",
   "execution_count": 6,
   "metadata": {},
   "outputs": [
    {
     "data": {
      "text/html": [
       "<div>\n",
       "<style scoped>\n",
       "    .dataframe tbody tr th:only-of-type {\n",
       "        vertical-align: middle;\n",
       "    }\n",
       "\n",
       "    .dataframe tbody tr th {\n",
       "        vertical-align: top;\n",
       "    }\n",
       "\n",
       "    .dataframe thead th {\n",
       "        text-align: right;\n",
       "    }\n",
       "</style>\n",
       "<table border=\"1\" class=\"dataframe\">\n",
       "  <thead>\n",
       "    <tr style=\"text-align: right;\">\n",
       "      <th></th>\n",
       "      <th>Cliente</th>\n",
       "      <th>Regional2</th>\n",
       "      <th>Gerencia2</th>\n",
       "      <th>SubCanal2</th>\n",
       "      <th>Categoria</th>\n",
       "      <th>Nevera</th>\n",
       "    </tr>\n",
       "  </thead>\n",
       "  <tbody>\n",
       "    <tr>\n",
       "      <td>0</td>\n",
       "      <td>1</td>\n",
       "      <td>Regional 1</td>\n",
       "      <td>Gerencia_1</td>\n",
       "      <td>Subcanal_1</td>\n",
       "      <td>Categoria_1</td>\n",
       "      <td>0</td>\n",
       "    </tr>\n",
       "    <tr>\n",
       "      <td>1</td>\n",
       "      <td>2</td>\n",
       "      <td>Regional 1</td>\n",
       "      <td>Gerencia_1</td>\n",
       "      <td>Subcanal_1</td>\n",
       "      <td>Categoria_1</td>\n",
       "      <td>0</td>\n",
       "    </tr>\n",
       "    <tr>\n",
       "      <td>2</td>\n",
       "      <td>3</td>\n",
       "      <td>Regional 1</td>\n",
       "      <td>Gerencia_1</td>\n",
       "      <td>Subcanal_1</td>\n",
       "      <td>Categoria_1</td>\n",
       "      <td>0</td>\n",
       "    </tr>\n",
       "    <tr>\n",
       "      <td>3</td>\n",
       "      <td>4</td>\n",
       "      <td>Regional 1</td>\n",
       "      <td>Gerencia_1</td>\n",
       "      <td>Subcanal_1</td>\n",
       "      <td>Categoria_1</td>\n",
       "      <td>1</td>\n",
       "    </tr>\n",
       "    <tr>\n",
       "      <td>4</td>\n",
       "      <td>5</td>\n",
       "      <td>Regional 1</td>\n",
       "      <td>Gerencia_1</td>\n",
       "      <td>Subcanal_1</td>\n",
       "      <td>Categoria_2</td>\n",
       "      <td>1</td>\n",
       "    </tr>\n",
       "    <tr>\n",
       "      <td>...</td>\n",
       "      <td>...</td>\n",
       "      <td>...</td>\n",
       "      <td>...</td>\n",
       "      <td>...</td>\n",
       "      <td>...</td>\n",
       "      <td>...</td>\n",
       "    </tr>\n",
       "    <tr>\n",
       "      <td>20916</td>\n",
       "      <td>20917</td>\n",
       "      <td>Regional 1</td>\n",
       "      <td>Gerencia_1</td>\n",
       "      <td>Subcanal_31</td>\n",
       "      <td>Categoria_2</td>\n",
       "      <td>0</td>\n",
       "    </tr>\n",
       "    <tr>\n",
       "      <td>20917</td>\n",
       "      <td>20918</td>\n",
       "      <td>Regional 1</td>\n",
       "      <td>Gerencia_4</td>\n",
       "      <td>Subcanal_31</td>\n",
       "      <td>Categoria_1</td>\n",
       "      <td>0</td>\n",
       "    </tr>\n",
       "    <tr>\n",
       "      <td>20918</td>\n",
       "      <td>20919</td>\n",
       "      <td>Regional 1</td>\n",
       "      <td>Gerencia_9</td>\n",
       "      <td>Subcanal_31</td>\n",
       "      <td>Categoria_1</td>\n",
       "      <td>0</td>\n",
       "    </tr>\n",
       "    <tr>\n",
       "      <td>20919</td>\n",
       "      <td>20920</td>\n",
       "      <td>Regional 1</td>\n",
       "      <td>Gerencia_10</td>\n",
       "      <td>Subcanal_31</td>\n",
       "      <td>Categoria_1</td>\n",
       "      <td>0</td>\n",
       "    </tr>\n",
       "    <tr>\n",
       "      <td>20920</td>\n",
       "      <td>20921</td>\n",
       "      <td>Regional 1</td>\n",
       "      <td>Gerencia_9</td>\n",
       "      <td>Subcanal_31</td>\n",
       "      <td>Categoria_1</td>\n",
       "      <td>0</td>\n",
       "    </tr>\n",
       "  </tbody>\n",
       "</table>\n",
       "<p>20921 rows × 6 columns</p>\n",
       "</div>"
      ],
      "text/plain": [
       "       Cliente   Regional2    Gerencia2    SubCanal2    Categoria  Nevera\n",
       "0            1  Regional 1   Gerencia_1   Subcanal_1  Categoria_1       0\n",
       "1            2  Regional 1   Gerencia_1   Subcanal_1  Categoria_1       0\n",
       "2            3  Regional 1   Gerencia_1   Subcanal_1  Categoria_1       0\n",
       "3            4  Regional 1   Gerencia_1   Subcanal_1  Categoria_1       1\n",
       "4            5  Regional 1   Gerencia_1   Subcanal_1  Categoria_2       1\n",
       "...        ...         ...          ...          ...          ...     ...\n",
       "20916    20917  Regional 1   Gerencia_1  Subcanal_31  Categoria_2       0\n",
       "20917    20918  Regional 1   Gerencia_4  Subcanal_31  Categoria_1       0\n",
       "20918    20919  Regional 1   Gerencia_9  Subcanal_31  Categoria_1       0\n",
       "20919    20920  Regional 1  Gerencia_10  Subcanal_31  Categoria_1       0\n",
       "20920    20921  Regional 1   Gerencia_9  Subcanal_31  Categoria_1       0\n",
       "\n",
       "[20921 rows x 6 columns]"
      ]
     },
     "execution_count": 6,
     "metadata": {},
     "output_type": "execute_result"
    }
   ],
   "source": [
    "clientes_estructura"
   ]
  },
  {
   "cell_type": "markdown",
   "metadata": {},
   "source": [
    "<h3>\n",
    "    Regional2:\n",
    "</h3>"
   ]
  },
  {
   "cell_type": "code",
   "execution_count": 7,
   "metadata": {},
   "outputs": [
    {
     "name": "stdout",
     "output_type": "stream",
     "text": [
      "['Regional 1']\n"
     ]
    }
   ],
   "source": [
    "print(clientes_estructura.Regional2.unique())"
   ]
  },
  {
   "cell_type": "markdown",
   "metadata": {},
   "source": [
    "<h3>\n",
    "    Gerencia2:\n",
    "</h3>"
   ]
  },
  {
   "cell_type": "code",
   "execution_count": 8,
   "metadata": {},
   "outputs": [
    {
     "name": "stdout",
     "output_type": "stream",
     "text": [
      "['Gerencia_1' 'Gerencia_2' 'Gerencia_3' 'Gerencia_4' 'Gerencia_5'\n",
      " 'Gerencia_6' 'Gerencia_7' 'Gerencia_8' 'Gerencia_9' 'Gerencia_10'\n",
      " 'Gerencia_11']\n"
     ]
    }
   ],
   "source": [
    "print(clientes_estructura.Gerencia2.unique())"
   ]
  },
  {
   "cell_type": "code",
   "execution_count": 10,
   "metadata": {},
   "outputs": [
    {
     "data": {
      "text/plain": [
       "<matplotlib.axes._subplots.AxesSubplot at 0x21701098ac8>"
      ]
     },
     "execution_count": 10,
     "metadata": {},
     "output_type": "execute_result"
    },
    {
     "data": {
      "image/png": "[encoded data removed]",
      "text/plain": [
       "<Figure size 1224x576 with 1 Axes>"
      ]
     },
     "metadata": {
      "needs_background": "light"
     },
     "output_type": "display_data"
    }
   ],
   "source": [
    "fig = plt.figure(figsize =(17, 8)) \n",
    "clientes_estructura['Gerencia2'].value_counts().plot(kind='bar')"
   ]
  },
  {
   "cell_type": "markdown",
   "metadata": {},
   "source": [
    "<h3>\n",
    "    SubCanal2:\n",
    "</h3>"
   ]
  },
  {
   "cell_type": "code",
   "execution_count": 11,
   "metadata": {},
   "outputs": [
    {
     "name": "stdout",
     "output_type": "stream",
     "text": [
      "['Subcanal_1' 'Subcanal_2' 'Subcanal_3' 'Subcanal_4' 'Subcanal_5'\n",
      " 'Subcanal_6' 'Subcanal_7' 'Subcanal_8' 'Subcanal_9' 'Subcanal_10'\n",
      " 'Subcanal_11' 'Subcanal_12' 'Subcanal_13' 'Subcanal_14' 'Subcanal_15'\n",
      " 'Subcanal_16' 'Subcanal_17' 'Subcanal_18' 'Subcanal_19' 'Subcanal_20'\n",
      " 'Subcanal_21' 'Subcanal_22' 'Subcanal_23' 'Subcanal_24' 'Subcanal_25'\n",
      " 'Subcanal_26' 'Subcanal_27' 'Subcanal_28' 'Subcanal_29' 'Subcanal_30'\n",
      " 'Subcanal_31' 'Subcanal_32']\n"
     ]
    }
   ],
   "source": [
    "print(clientes_estructura.SubCanal2.unique())"
   ]
  },
  {
   "cell_type": "code",
   "execution_count": 12,
   "metadata": {},
   "outputs": [
    {
     "data": {
      "text/plain": [
       "<matplotlib.axes._subplots.AxesSubplot at 0x2170115dc88>"
      ]
     },
     "execution_count": 12,
     "metadata": {},
     "output_type": "execute_result"
    },
    {
     "data": {
      "image/png": "[encoded data removed]",
      "text/plain": [
       "<Figure size 1224x576 with 1 Axes>"
      ]
     },
     "metadata": {
      "needs_background": "light"
     },
     "output_type": "display_data"
    }
   ],
   "source": [
    "fig = plt.figure(figsize =(17, 8)) \n",
    "clientes_estructura['SubCanal2'].value_counts().plot(kind='bar')"
   ]
  },
  {
   "cell_type": "markdown",
   "metadata": {},
   "source": [
    "<h3>\n",
    "    Categoria:\n",
    "</h3>"
   ]
  },
  {
   "cell_type": "code",
   "execution_count": 13,
   "metadata": {},
   "outputs": [
    {
     "name": "stdout",
     "output_type": "stream",
     "text": [
      "['Categoria_1' 'Categoria_2' 'Categoria_3' 'Categoria_4' 'Categoria_5'\n",
      " 'Categoria_6']\n"
     ]
    }
   ],
   "source": [
    "print(clientes_estructura.Categoria.unique())"
   ]
  },
  {
   "cell_type": "code",
   "execution_count": 14,
   "metadata": {},
   "outputs": [
    {
     "data": {
      "text/plain": [
       "<matplotlib.axes._subplots.AxesSubplot at 0x21701248e48>"
      ]
     },
     "execution_count": 14,
     "metadata": {},
     "output_type": "execute_result"
    },
    {
     "data": {
      "image/png": "[encoded data removed]",
      "text/plain": [
       "<Figure size 1224x576 with 1 Axes>"
      ]
     },
     "metadata": {
      "needs_background": "light"
     },
     "output_type": "display_data"
    }
   ],
   "source": [
    "fig = plt.figure(figsize =(17, 8)) \n",
    "clientes_estructura['Categoria'].value_counts().plot(kind='bar')"
   ]
  },
  {
   "cell_type": "markdown",
   "metadata": {},
   "source": [
    "<h3>\n",
    "    Nevera:\n",
    "</h3>"
   ]
  },
  {
   "cell_type": "code",
   "execution_count": 15,
   "metadata": {},
   "outputs": [
    {
     "name": "stdout",
     "output_type": "stream",
     "text": [
      "[0 1]\n"
     ]
    }
   ],
   "source": [
    "print(clientes_estructura.Nevera.unique())"
   ]
  },
  {
   "cell_type": "code",
   "execution_count": 16,
   "metadata": {},
   "outputs": [
    {
     "data": {
      "text/plain": [
       "<matplotlib.axes._subplots.AxesSubplot at 0x217012ec348>"
      ]
     },
     "execution_count": 16,
     "metadata": {},
     "output_type": "execute_result"
    },
    {
     "data": {
      "image/png": "[encoded data removed]",
      "text/plain": [
       "<Figure size 1224x576 with 1 Axes>"
      ]
     },
     "metadata": {
      "needs_background": "light"
     },
     "output_type": "display_data"
    }
   ],
   "source": [
    "fig = plt.figure(figsize =(17, 8)) \n",
    "clientes_estructura['Nevera'].value_counts().plot(kind='bar')"
   ]
  },
  {
   "cell_type": "markdown",
   "metadata": {},
   "source": [
    "<h1>\n",
    "Clientes venta\n",
    "</h1>"
   ]
  },
  {
   "cell_type": "code",
   "execution_count": 17,
   "metadata": {},
   "outputs": [
    {
     "data": {
      "text/html": [
       "<div>\n",
       "<style scoped>\n",
       "    .dataframe tbody tr th:only-of-type {\n",
       "        vertical-align: middle;\n",
       "    }\n",
       "\n",
       "    .dataframe tbody tr th {\n",
       "        vertical-align: top;\n",
       "    }\n",
       "\n",
       "    .dataframe thead th {\n",
       "        text-align: right;\n",
       "    }\n",
       "</style>\n",
       "<table border=\"1\" class=\"dataframe\">\n",
       "  <thead>\n",
       "    <tr style=\"text-align: right;\">\n",
       "      <th></th>\n",
       "      <th>Año</th>\n",
       "      <th>Mes</th>\n",
       "      <th>Cliente</th>\n",
       "      <th>SegmentoPrecio2</th>\n",
       "      <th>Marca2</th>\n",
       "      <th>Cupo2</th>\n",
       "      <th>CapacidadEnvase2</th>\n",
       "      <th>Volumen</th>\n",
       "      <th>disc</th>\n",
       "      <th>nr</th>\n",
       "    </tr>\n",
       "  </thead>\n",
       "  <tbody>\n",
       "    <tr>\n",
       "      <td>0</td>\n",
       "      <td>2019</td>\n",
       "      <td>5</td>\n",
       "      <td>10</td>\n",
       "      <td>SegmentoPrecio_1</td>\n",
       "      <td>Marca_1</td>\n",
       "      <td>Cupo_1</td>\n",
       "      <td>CapacidadEnvase_12</td>\n",
       "      <td>0.112229</td>\n",
       "      <td>-30.590603</td>\n",
       "      <td>900.328567</td>\n",
       "    </tr>\n",
       "    <tr>\n",
       "      <td>1</td>\n",
       "      <td>2019</td>\n",
       "      <td>5</td>\n",
       "      <td>10</td>\n",
       "      <td>SegmentoPrecio_1</td>\n",
       "      <td>Marca_2</td>\n",
       "      <td>Cupo_2</td>\n",
       "      <td>CapacidadEnvase_10</td>\n",
       "      <td>0.021734</td>\n",
       "      <td>0.000000</td>\n",
       "      <td>149.184463</td>\n",
       "    </tr>\n",
       "    <tr>\n",
       "      <td>2</td>\n",
       "      <td>2019</td>\n",
       "      <td>5</td>\n",
       "      <td>10</td>\n",
       "      <td>SegmentoPrecio_2</td>\n",
       "      <td>Marca_3</td>\n",
       "      <td>Cupo_2</td>\n",
       "      <td>CapacidadEnvase_10</td>\n",
       "      <td>0.043469</td>\n",
       "      <td>0.000000</td>\n",
       "      <td>359.625828</td>\n",
       "    </tr>\n",
       "    <tr>\n",
       "      <td>3</td>\n",
       "      <td>2019</td>\n",
       "      <td>5</td>\n",
       "      <td>10</td>\n",
       "      <td>SegmentoPrecio_1</td>\n",
       "      <td>Marca_1</td>\n",
       "      <td>Cupo_2</td>\n",
       "      <td>CapacidadEnvase_16</td>\n",
       "      <td>0.026345</td>\n",
       "      <td>-31.065261</td>\n",
       "      <td>134.748399</td>\n",
       "    </tr>\n",
       "    <tr>\n",
       "      <td>4</td>\n",
       "      <td>2019</td>\n",
       "      <td>5</td>\n",
       "      <td>10</td>\n",
       "      <td>SegmentoPrecio_1</td>\n",
       "      <td>Marca_4</td>\n",
       "      <td>Cupo_2</td>\n",
       "      <td>CapacidadEnvase_10</td>\n",
       "      <td>0.086938</td>\n",
       "      <td>0.000000</td>\n",
       "      <td>496.901005</td>\n",
       "    </tr>\n",
       "    <tr>\n",
       "      <td>...</td>\n",
       "      <td>...</td>\n",
       "      <td>...</td>\n",
       "      <td>...</td>\n",
       "      <td>...</td>\n",
       "      <td>...</td>\n",
       "      <td>...</td>\n",
       "      <td>...</td>\n",
       "      <td>...</td>\n",
       "      <td>...</td>\n",
       "      <td>...</td>\n",
       "    </tr>\n",
       "    <tr>\n",
       "      <td>1406111</td>\n",
       "      <td>2020</td>\n",
       "      <td>8</td>\n",
       "      <td>20577</td>\n",
       "      <td>SegmentoPrecio_3</td>\n",
       "      <td>Marca_39</td>\n",
       "      <td>Cupo_2</td>\n",
       "      <td>CapacidadEnvase_10</td>\n",
       "      <td>0.039122</td>\n",
       "      <td>0.000000</td>\n",
       "      <td>544.150314</td>\n",
       "    </tr>\n",
       "    <tr>\n",
       "      <td>1406112</td>\n",
       "      <td>2020</td>\n",
       "      <td>7</td>\n",
       "      <td>20580</td>\n",
       "      <td>SegmentoPrecio_1</td>\n",
       "      <td>Marca_38</td>\n",
       "      <td>Cupo_2</td>\n",
       "      <td>CapacidadEnvase_10</td>\n",
       "      <td>0.000000</td>\n",
       "      <td>0.000000</td>\n",
       "      <td>0.000000</td>\n",
       "    </tr>\n",
       "    <tr>\n",
       "      <td>1406113</td>\n",
       "      <td>2020</td>\n",
       "      <td>7</td>\n",
       "      <td>20580</td>\n",
       "      <td>SegmentoPrecio_3</td>\n",
       "      <td>Marca_39</td>\n",
       "      <td>Cupo_2</td>\n",
       "      <td>CapacidadEnvase_10</td>\n",
       "      <td>0.058683</td>\n",
       "      <td>0.000000</td>\n",
       "      <td>759.218996</td>\n",
       "    </tr>\n",
       "    <tr>\n",
       "      <td>1406114</td>\n",
       "      <td>2020</td>\n",
       "      <td>9</td>\n",
       "      <td>20580</td>\n",
       "      <td>SegmentoPrecio_1</td>\n",
       "      <td>Marca_38</td>\n",
       "      <td>Cupo_2</td>\n",
       "      <td>CapacidadEnvase_10</td>\n",
       "      <td>0.000000</td>\n",
       "      <td>0.000000</td>\n",
       "      <td>0.000000</td>\n",
       "    </tr>\n",
       "    <tr>\n",
       "      <td>1406115</td>\n",
       "      <td>2020</td>\n",
       "      <td>9</td>\n",
       "      <td>20580</td>\n",
       "      <td>SegmentoPrecio_3</td>\n",
       "      <td>Marca_39</td>\n",
       "      <td>Cupo_2</td>\n",
       "      <td>CapacidadEnvase_10</td>\n",
       "      <td>0.019561</td>\n",
       "      <td>0.000000</td>\n",
       "      <td>269.150196</td>\n",
       "    </tr>\n",
       "  </tbody>\n",
       "</table>\n",
       "<p>1406116 rows × 10 columns</p>\n",
       "</div>"
      ],
      "text/plain": [
       "          Año  Mes  Cliente   SegmentoPrecio2    Marca2   Cupo2  \\\n",
       "0        2019    5       10  SegmentoPrecio_1   Marca_1  Cupo_1   \n",
       "1        2019    5       10  SegmentoPrecio_1   Marca_2  Cupo_2   \n",
       "2        2019    5       10  SegmentoPrecio_2   Marca_3  Cupo_2   \n",
       "3        2019    5       10  SegmentoPrecio_1   Marca_1  Cupo_2   \n",
       "4        2019    5       10  SegmentoPrecio_1   Marca_4  Cupo_2   \n",
       "...       ...  ...      ...               ...       ...     ...   \n",
       "1406111  2020    8    20577  SegmentoPrecio_3  Marca_39  Cupo_2   \n",
       "1406112  2020    7    20580  SegmentoPrecio_1  Marca_38  Cupo_2   \n",
       "1406113  2020    7    20580  SegmentoPrecio_3  Marca_39  Cupo_2   \n",
       "1406114  2020    9    20580  SegmentoPrecio_1  Marca_38  Cupo_2   \n",
       "1406115  2020    9    20580  SegmentoPrecio_3  Marca_39  Cupo_2   \n",
       "\n",
       "           CapacidadEnvase2   Volumen       disc          nr  \n",
       "0        CapacidadEnvase_12  0.112229 -30.590603  900.328567  \n",
       "1        CapacidadEnvase_10  0.021734   0.000000  149.184463  \n",
       "2        CapacidadEnvase_10  0.043469   0.000000  359.625828  \n",
       "3        CapacidadEnvase_16  0.026345 -31.065261  134.748399  \n",
       "4        CapacidadEnvase_10  0.086938   0.000000  496.901005  \n",
       "...                     ...       ...        ...         ...  \n",
       "1406111  CapacidadEnvase_10  0.039122   0.000000  544.150314  \n",
       "1406112  CapacidadEnvase_10  0.000000   0.000000    0.000000  \n",
       "1406113  CapacidadEnvase_10  0.058683   0.000000  759.218996  \n",
       "1406114  CapacidadEnvase_10  0.000000   0.000000    0.000000  \n",
       "1406115  CapacidadEnvase_10  0.019561   0.000000  269.150196  \n",
       "\n",
       "[1406116 rows x 10 columns]"
      ]
     },
     "execution_count": 17,
     "metadata": {},
     "output_type": "execute_result"
    }
   ],
   "source": [
    "clientes_venta"
   ]
  },
  {
   "cell_type": "markdown",
   "metadata": {},
   "source": [
    "<h3>\n",
    "    Año:\n",
    "</h3>"
   ]
  },
  {
   "cell_type": "code",
   "execution_count": 19,
   "metadata": {},
   "outputs": [
    {
     "name": "stdout",
     "output_type": "stream",
     "text": [
      "[2019 2020]\n"
     ]
    }
   ],
   "source": [
    "print(clientes_venta.Año.unique())"
   ]
  },
  {
   "cell_type": "code",
   "execution_count": 20,
   "metadata": {},
   "outputs": [
    {
     "data": {
      "text/plain": [
       "<matplotlib.axes._subplots.AxesSubplot at 0x217013532c8>"
      ]
     },
     "execution_count": 20,
     "metadata": {},
     "output_type": "execute_result"
    },
    {
     "data": {
      "image/png": "[encoded data removed]",
      "text/plain": [
       "<Figure size 1224x576 with 1 Axes>"
      ]
     },
     "metadata": {
      "needs_background": "light"
     },
     "output_type": "display_data"
    }
   ],
   "source": [
    "fig = plt.figure(figsize =(17, 8)) \n",
    "clientes_venta['Año'].value_counts().plot(kind='bar')"
   ]
  },
  {
   "cell_type": "markdown",
   "metadata": {},
   "source": [
    "<h3>\n",
    "    Mes:\n",
    "</h3>"
   ]
  },
  {
   "cell_type": "code",
   "execution_count": 21,
   "metadata": {},
   "outputs": [
    {
     "name": "stdout",
     "output_type": "stream",
     "text": [
      "[ 5  6  7  9  8 10 11 12  1  2  3  4]\n"
     ]
    }
   ],
   "source": [
    "print(clientes_venta.Mes.unique())"
   ]
  },
  {
   "cell_type": "code",
   "execution_count": 22,
   "metadata": {},
   "outputs": [
    {
     "data": {
      "text/plain": [
       "<matplotlib.axes._subplots.AxesSubplot at 0x217013c3048>"
      ]
     },
     "execution_count": 22,
     "metadata": {},
     "output_type": "execute_result"
    },
    {
     "data": {
      "image/png": "[encoded data removed]",
      "text/plain": [
       "<Figure size 1224x576 with 1 Axes>"
      ]
     },
     "metadata": {
      "needs_background": "light"
     },
     "output_type": "display_data"
    }
   ],
   "source": [
    "fig = plt.figure(figsize =(17, 8)) \n",
    "clientes_venta['Mes'].value_counts().plot(kind='bar')"
   ]
  },
  {
   "cell_type": "markdown",
   "metadata": {},
   "source": [
    "<h3>\n",
    "    Cliente:\n",
    "</h3>"
   ]
  },
  {
   "cell_type": "code",
   "execution_count": 23,
   "metadata": {},
   "outputs": [
    {
     "name": "stdout",
     "output_type": "stream",
     "text": [
      "[   10    12    14 ... 20569 20577 20580]\n"
     ]
    }
   ],
   "source": [
    "print(clientes_venta.Cliente.unique())"
   ]
  },
  {
   "cell_type": "code",
   "execution_count": 24,
   "metadata": {},
   "outputs": [
    {
     "name": "stdout",
     "output_type": "stream",
     "text": [
      "17010\n"
     ]
    }
   ],
   "source": [
    "print(len(clientes_venta.Cliente.unique()))"
   ]
  },
  {
   "cell_type": "markdown",
   "metadata": {},
   "source": [
    "<h3>\n",
    "    SegmentoPrecio2:\n",
    "</h3>"
   ]
  },
  {
   "cell_type": "code",
   "execution_count": 25,
   "metadata": {},
   "outputs": [
    {
     "name": "stdout",
     "output_type": "stream",
     "text": [
      "['SegmentoPrecio_1' 'SegmentoPrecio_2' 'SegmentoPrecio_3']\n"
     ]
    }
   ],
   "source": [
    "print(clientes_venta.SegmentoPrecio2.unique())"
   ]
  },
  {
   "cell_type": "code",
   "execution_count": 26,
   "metadata": {},
   "outputs": [
    {
     "data": {
      "text/plain": [
       "<matplotlib.axes._subplots.AxesSubplot at 0x2170144bdc8>"
      ]
     },
     "execution_count": 26,
     "metadata": {},
     "output_type": "execute_result"
    },
    {
     "data": {
      "image/png": "[encoded data removed]",
      "text/plain": [
       "<Figure size 1224x576 with 1 Axes>"
      ]
     },
     "metadata": {
      "needs_background": "light"
     },
     "output_type": "display_data"
    }
   ],
   "source": [
    "fig = plt.figure(figsize =(17, 8)) \n",
    "clientes_venta['SegmentoPrecio2'].value_counts().plot(kind='bar')"
   ]
  },
  {
   "cell_type": "markdown",
   "metadata": {},
   "source": [
    "<h3>\n",
    "    Marca2:\n",
    "</h3>"
   ]
  },
  {
   "cell_type": "code",
   "execution_count": 27,
   "metadata": {},
   "outputs": [
    {
     "name": "stdout",
     "output_type": "stream",
     "text": [
      "['Marca_1' 'Marca_2' 'Marca_3' 'Marca_4' 'Marca_5' 'Marca_6' 'Marca_7'\n",
      " 'Marca_8' 'Marca_9' 'Marca_10' 'Marca_11' 'Marca_12' 'Marca_13'\n",
      " 'Marca_14' 'Marca_15' 'Marca_16' 'Marca_17' 'Marca_18' 'Marca_19'\n",
      " 'Marca_20' 'Marca_21' 'Marca_22' 'Marca_23' 'Marca_24' 'Marca_25'\n",
      " 'Marca_26' 'Marca_27' 'Marca_28' 'Marca_29' 'Marca_30' 'Marca_31'\n",
      " 'Marca_32' 'Marca_33' 'Marca_34' 'Marca_35' 'Marca_36' 'Marca_37'\n",
      " 'Marca_38' 'Marca_39']\n"
     ]
    }
   ],
   "source": [
    "print(clientes_venta.Marca2.unique())"
   ]
  },
  {
   "cell_type": "code",
   "execution_count": 59,
   "metadata": {},
   "outputs": [
    {
     "name": "stdout",
     "output_type": "stream",
     "text": [
      "39\n"
     ]
    }
   ],
   "source": [
    "print(len(clientes_venta.Marca2.unique()))"
   ]
  },
  {
   "cell_type": "code",
   "execution_count": 28,
   "metadata": {},
   "outputs": [
    {
     "data": {
      "text/plain": [
       "<matplotlib.axes._subplots.AxesSubplot at 0x21701695d08>"
      ]
     },
     "execution_count": 28,
     "metadata": {},
     "output_type": "execute_result"
    },
    {
     "data": {
      "image/png": "[encoded data removed]",
      "text/plain": [
       "<Figure size 1224x576 with 1 Axes>"
      ]
     },
     "metadata": {
      "needs_background": "light"
     },
     "output_type": "display_data"
    }
   ],
   "source": [
    "fig = plt.figure(figsize =(17, 8)) \n",
    "clientes_venta['Marca2'].value_counts().plot(kind='bar')"
   ]
  },
  {
   "cell_type": "markdown",
   "metadata": {},
   "source": [
    "<h3>\n",
    "    Cupo2:\n",
    "</h3>\n",
    "    "
   ]
  },
  {
   "cell_type": "code",
   "execution_count": 29,
   "metadata": {},
   "outputs": [
    {
     "name": "stdout",
     "output_type": "stream",
     "text": [
      "['Cupo_1' 'Cupo_2' 'Cupo_3' 'Cupo_4' 'Cupo_5']\n"
     ]
    }
   ],
   "source": [
    "print(clientes_venta.Cupo2.unique())"
   ]
  },
  {
   "cell_type": "code",
   "execution_count": 30,
   "metadata": {},
   "outputs": [
    {
     "data": {
      "text/plain": [
       "<matplotlib.axes._subplots.AxesSubplot at 0x217023a4608>"
      ]
     },
     "execution_count": 30,
     "metadata": {},
     "output_type": "execute_result"
    },
    {
     "data": {
      "image/png": "[encoded data removed]",
      "text/plain": [
       "<Figure size 1224x576 with 1 Axes>"
      ]
     },
     "metadata": {
      "needs_background": "light"
     },
     "output_type": "display_data"
    }
   ],
   "source": [
    "fig = plt.figure(figsize =(17, 8)) \n",
    "clientes_venta['Cupo2'].value_counts().plot(kind='bar')"
   ]
  },
  {
   "cell_type": "markdown",
   "metadata": {},
   "source": [
    "<h3>\n",
    "    CapacidadEnvase2:\n",
    "</h3>"
   ]
  },
  {
   "cell_type": "code",
   "execution_count": 31,
   "metadata": {},
   "outputs": [
    {
     "name": "stdout",
     "output_type": "stream",
     "text": [
      "['CapacidadEnvase_12' 'CapacidadEnvase_10' 'CapacidadEnvase_16'\n",
      " 'CapacidadEnvase_6' 'CapacidadEnvase_17' 'CapacidadEnvase_14'\n",
      " 'CapacidadEnvase_3' 'CapacidadEnvase_5' 'CapacidadEnvase_11'\n",
      " 'CapacidadEnvase_8' 'CapacidadEnvase_9' 'CapacidadEnvase_13'\n",
      " 'CapacidadEnvase_15' 'CapacidadEnvase_7' 'CapacidadEnvase_1'\n",
      " 'CapacidadEnvase_2' 'CapacidadEnvase_4']\n"
     ]
    }
   ],
   "source": [
    "print(clientes_venta.CapacidadEnvase2.unique())"
   ]
  },
  {
   "cell_type": "code",
   "execution_count": 60,
   "metadata": {},
   "outputs": [
    {
     "name": "stdout",
     "output_type": "stream",
     "text": [
      "17\n"
     ]
    }
   ],
   "source": [
    "print(len(clientes_venta.CapacidadEnvase2.unique()))"
   ]
  },
  {
   "cell_type": "code",
   "execution_count": 32,
   "metadata": {},
   "outputs": [
    {
     "data": {
      "text/plain": [
       "<matplotlib.axes._subplots.AxesSubplot at 0x217023eeb88>"
      ]
     },
     "execution_count": 32,
     "metadata": {},
     "output_type": "execute_result"
    },
    {
     "data": {
      "image/png": "[encoded data removed]",
      "text/plain": [
       "<Figure size 1224x576 with 1 Axes>"
      ]
     },
     "metadata": {
      "needs_background": "light"
     },
     "output_type": "display_data"
    }
   ],
   "source": [
    "fig = plt.figure(figsize =(17, 8)) \n",
    "clientes_venta['CapacidadEnvase2'].value_counts().plot(kind='bar')"
   ]
  },
  {
   "cell_type": "markdown",
   "metadata": {},
   "source": [
    "<h3>\n",
    "    Volumen:\n",
    "</h3>"
   ]
  },
  {
   "cell_type": "code",
   "execution_count": 47,
   "metadata": {},
   "outputs": [
    {
     "name": "stdout",
     "output_type": "stream",
     "text": [
      "0.021734     122458\n",
      "0.043469      72222\n",
      "0.017388      61568\n",
      "0.018705      50656\n",
      "0.065203      41838\n",
      "              ...  \n",
      "0.313700          1\n",
      "26.373713         1\n",
      "1.956206          1\n",
      "3.828241          1\n",
      "2.000000          1\n",
      "Name: Volumen, Length: 9592, dtype: int64\n"
     ]
    }
   ],
   "source": [
    "print(clientes_venta['Volumen'].value_counts().sort_values(ascending=False))"
   ]
  },
  {
   "cell_type": "code",
   "execution_count": 52,
   "metadata": {},
   "outputs": [
    {
     "name": "stdout",
     "output_type": "stream",
     "text": [
      "Maximo: 300.0\n",
      "Minimo: 0.0\n",
      "Media: 0.22943626191434827\n",
      "Mediana: 0.0526894680339584\n",
      "Desviacion estandar: 1.3957978672793743\n",
      "Varianza: 1.9482516863016495\n",
      "Moda: \n"
     ]
    },
    {
     "data": {
      "text/plain": [
       "ModeResult(mode=array([0.02173441]), count=array([122458]))"
      ]
     },
     "execution_count": 52,
     "metadata": {},
     "output_type": "execute_result"
    }
   ],
   "source": [
    "print(\"Maximo: \" + str(np.max(clientes_venta['Volumen'].to_numpy())))\n",
    "print(\"Minimo: \" + str(np.min(clientes_venta['Volumen'].to_numpy())))\n",
    "\n",
    "print(\"Media: \" + str(np.mean(clientes_venta['Volumen'].to_numpy())))\n",
    "print(\"Mediana: \" + str(np.median(clientes_venta['Volumen'].to_numpy())))\n",
    "print(\"Desviacion estandar: \" + str(np.std(clientes_venta['Volumen'].to_numpy())))\n",
    "print(\"Varianza: \" + str(np.var(clientes_venta['Volumen'].to_numpy())))\n",
    "print(\"Moda: \")\n",
    "stats.mode(clientes_venta['Volumen'].to_numpy())"
   ]
  },
  {
   "cell_type": "code",
   "execution_count": 41,
   "metadata": {},
   "outputs": [
    {
     "data": {
      "image/png": "[encoded data removed]",
      "text/plain": [
       "<Figure size 1224x576 with 1 Axes>"
      ]
     },
     "metadata": {
      "needs_background": "light"
     },
     "output_type": "display_data"
    }
   ],
   "source": [
    "fig = plt.figure(figsize =(17, 8)) \n",
    "hist = clientes_venta['Volumen'].hist(bins=150)"
   ]
  },
  {
   "cell_type": "markdown",
   "metadata": {},
   "source": [
    "<h3>\n",
    "    disc:\n",
    "</h3>"
   ]
  },
  {
   "cell_type": "code",
   "execution_count": 53,
   "metadata": {},
   "outputs": [
    {
     "name": "stdout",
     "output_type": "stream",
     "text": [
      " 0.000000         909744\n",
      "-38.049139          8787\n",
      "-22.517392          8697\n",
      "-62.130521          7189\n",
      "-76.098277          7149\n",
      "                   ...  \n",
      "-1984.845462           1\n",
      "-928.923863            1\n",
      "-6968.448432           1\n",
      "-149026.880632         1\n",
      "-113.210082            1\n",
      "Name: disc, Length: 67413, dtype: int64\n"
     ]
    }
   ],
   "source": [
    "print(clientes_venta['disc'].value_counts().sort_values(ascending=False))"
   ]
  },
  {
   "cell_type": "code",
   "execution_count": 54,
   "metadata": {},
   "outputs": [
    {
     "name": "stdout",
     "output_type": "stream",
     "text": [
      "Maximo: 0.0\n",
      "Minimo: -479456.670881184\n",
      "Media: -133.58548315509623\n",
      "Mediana: 0.0\n",
      "Desviacion estandar: 1491.8325461099248\n",
      "Varianza: 2225564.345632821\n",
      "Moda: \n"
     ]
    },
    {
     "data": {
      "text/plain": [
       "ModeResult(mode=array([0.]), count=array([909744]))"
      ]
     },
     "execution_count": 54,
     "metadata": {},
     "output_type": "execute_result"
    }
   ],
   "source": [
    "print(\"Maximo: \" + str(np.max(clientes_venta['disc'].to_numpy())))\n",
    "print(\"Minimo: \" + str(np.min(clientes_venta['disc'].to_numpy())))\n",
    "\n",
    "print(\"Media: \" + str(np.mean(clientes_venta['disc'].to_numpy())))\n",
    "print(\"Mediana: \" + str(np.median(clientes_venta['disc'].to_numpy())))\n",
    "print(\"Desviacion estandar: \" + str(np.std(clientes_venta['disc'].to_numpy())))\n",
    "print(\"Varianza: \" + str(np.var(clientes_venta['disc'].to_numpy())))\n",
    "print(\"Moda: \")\n",
    "stats.mode(clientes_venta['disc'].to_numpy())"
   ]
  },
  {
   "cell_type": "code",
   "execution_count": 55,
   "metadata": {},
   "outputs": [
    {
     "data": {
      "image/png": "[encoded data removed]",
      "text/plain": [
       "<Figure size 1224x576 with 1 Axes>"
      ]
     },
     "metadata": {
      "needs_background": "light"
     },
     "output_type": "display_data"
    }
   ],
   "source": [
    "fig = plt.figure(figsize =(17, 8)) \n",
    "hist = clientes_venta['disc'].hist(bins=150)"
   ]
  },
  {
   "cell_type": "markdown",
   "metadata": {},
   "source": [
    "<h3>\n",
    "    nr:\n",
    "</h3>"
   ]
  },
  {
   "cell_type": "code",
   "execution_count": 56,
   "metadata": {},
   "outputs": [
    {
     "name": "stdout",
     "output_type": "stream",
     "text": [
      "185.590989     8381\n",
      "169.060181     7830\n",
      "165.171268     6624\n",
      "134.748399     6517\n",
      "269.496798     6433\n",
      "               ... \n",
      "716.869976        1\n",
      "1014.830113       1\n",
      "4686.969523       1\n",
      "7601.720186       1\n",
      "2885.004980       1\n",
      "Name: nr, Length: 219594, dtype: int64\n"
     ]
    }
   ],
   "source": [
    "print(clientes_venta['nr'].value_counts().sort_values(ascending=False))"
   ]
  },
  {
   "cell_type": "code",
   "execution_count": 57,
   "metadata": {},
   "outputs": [
    {
     "name": "stdout",
     "output_type": "stream",
     "text": [
      "Maximo: 2302965.25303666\n",
      "Minimo: 0.0\n",
      "Media: 1704.8336274782903\n",
      "Mediana: 423.318352473498\n",
      "Desviacion estandar: 10470.790821000277\n",
      "Varianza: 109637460.41714364\n",
      "Moda: \n"
     ]
    },
    {
     "data": {
      "text/plain": [
       "ModeResult(mode=array([185.5909894]), count=array([8381]))"
      ]
     },
     "execution_count": 57,
     "metadata": {},
     "output_type": "execute_result"
    }
   ],
   "source": [
    "print(\"Maximo: \" + str(np.max(clientes_venta['nr'].to_numpy())))\n",
    "print(\"Minimo: \" + str(np.min(clientes_venta['nr'].to_numpy())))\n",
    "\n",
    "print(\"Media: \" + str(np.mean(clientes_venta['nr'].to_numpy())))\n",
    "print(\"Mediana: \" + str(np.median(clientes_venta['nr'].to_numpy())))\n",
    "print(\"Desviacion estandar: \" + str(np.std(clientes_venta['nr'].to_numpy())))\n",
    "print(\"Varianza: \" + str(np.var(clientes_venta['nr'].to_numpy())))\n",
    "print(\"Moda: \")\n",
    "stats.mode(clientes_venta['nr'].to_numpy())"
   ]
  },
  {
   "cell_type": "code",
   "execution_count": 58,
   "metadata": {},
   "outputs": [
    {
     "data": {
      "image/png": "[encoded data removed]",
      "text/plain": [
       "<Figure size 1224x576 with 1 Axes>"
      ]
     },
     "metadata": {
      "needs_background": "light"
     },
     "output_type": "display_data"
    }
   ],
   "source": [
    "fig = plt.figure(figsize =(17, 8)) \n",
    "hist = clientes_venta['nr'].hist(bins=150)"
   ]
  },
  {
   "cell_type": "code",
   "execution_count": null,
   "metadata": {},
   "outputs": [],
   "source": []
  }
 ],
 "metadata": {
  "kernelspec": {
   "display_name": "Python 3",
   "language": "python",
   "name": "python3"
  },
  "language_info": {
   "codemirror_mode": {
    "name": "ipython",
    "version": 3
   },
   "file_extension": ".py",
   "mimetype": "text/x-python",
   "name": "python",
   "nbconvert_exporter": "python",
   "pygments_lexer": "ipython3",
   "version": "3.7.4"
  }
 },
 "nbformat": 4,
 "nbformat_minor": 2
}
